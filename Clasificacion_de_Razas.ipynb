{
  "nbformat": 4,
  "nbformat_minor": 0,
  "metadata": {
    "colab": {
      "provenance": [],
      "toc_visible": true,
      "authorship_tag": "ABX9TyMrZUOu0YfAgsYm8ySEUH+P",
      "include_colab_link": true
    },
    "kernelspec": {
      "name": "python3",
      "display_name": "Python 3"
    },
    "language_info": {
      "name": "python"
    }
  },
  "cells": [
    {
      "cell_type": "markdown",
      "metadata": {
        "id": "view-in-github",
        "colab_type": "text"
      },
      "source": [
        "<a href=\"https://colab.research.google.com/github/leomay282/Clasificaci-n_de_Razas/blob/p_espacio/Clasificacion_de_Razas.ipynb\" target=\"_parent\"><img src=\"https://colab.research.google.com/assets/colab-badge.svg\" alt=\"Open In Colab\"/></a>"
      ]
    },
    {
      "cell_type": "markdown",
      "source": [],
      "metadata": {
        "id": "M43o1C4hY399"
      }
    },
    {
      "cell_type": "markdown",
      "source": [
        "# 🐶 Uso de Transfer Learning y TensorFlow 2.0 para clasificar diferentes razas de perros"
      ],
      "metadata": {
        "id": "VpevKNjyZBP8"
      }
    },
    {
      "cell_type": "markdown",
      "source": [
        "\n",
        "¿Quién es ese perrito en la ventana?\n",
        "\n",
        "Los perros son increíbles. Pero, ¿alguna vez has estado sentado en un café, has visto un perro y no sabes de qué raza es?, y entonces alguien dice \"es un Terrier inglés\" y piensas, ¿cómo supieron eso?\n",
        "\n",
        "En este proyecto usaremos el machine learning para ayudarnos a identificar diferentes razas de perros.\n",
        "\n",
        "Para hacer esto, usaremos datos de[Kaggle dog breed identification competition](https://www.kaggle.com/c/dog-breed-identification/overview). Consiste en una colección de más de 10.000 imágenes etiquetadas de 120 razas de perros diferentes.\n",
        "\n",
        "Este tipo de problema se denomina \"multi-class image classification\". Es de clases múltiples porque estamos tratando de clasificar varias razas de perros diferentes. Si sólo intentáramos clasificar perros versus gatos, se llamaría clasificación binaria (una cosa versus otra).\n",
        "\n",
        "La clasificación de clases múltiples es un problema importante porque es el mismo tipo de tecnología que usa Tesla en sus autos o que usa Airbnb para agregar información automáticamente a sus listados.\n",
        "\n",
        "Dado que el paso más importante en un problema de aprendizaje profundo es preparar los datos (convertirlos en números), comenzaremos con eso.\n",
        "\n",
        "Iremis a través del siguiente flujo de trabajo de TensorFlow/Deeplearning:\n",
        "1. Preparar los datos (descárguelos de Kaggle, almacene, importe).\n",
        "2. Preparar los datos (preprocessing, the 3 sets, X & y).\n",
        "3. Elija y ajuste/entrene un modelo ([TensorFlow Hub](https://www.tensorflow.org/hub), `tf.keras.applications`, [TensorBoard](https://www.tensorflow.org/tensorboard) , [Detención anticipada](https://www.tensorflow.org/api_docs/python/tf/keras/callbacks/EarlyStopping)).\n",
        "4. Evaluar un modelo (hacer predicciones, compararlas con las etiquetas reales).\n",
        "5. Mejorar el modelo mediante la experimentación (comience con 1000 imágenes, asegúrese de que funcione, aumente la cantidad de imágenes).\n",
        "6. Guarde, comparta y vuelva a cargar su modelo (una vez que esté satisfecho con los resultados).\n",
        "\n",
        "Para preprocesar nuestros datos, usaremos TensorFlow 2.x. La premisa aquí es colocar nuestros datos en tensores (matrices de números que se pueden ejecutar en GPU) y luego permitir que un modelo de aprendizaje automático encuentre patrones entre ellos.\n",
        "\n",
        "Para nuestro modelo de aprendizaje automático, usaremos un modelo de aprendizaje profundo previamente entrenado de TensorFlow Hub.\n",
        "\n",
        "El proceso de utilizar un modelo previamente entrenado y adaptarlo a su propio problema se llama **aprendizaje por transferencia**. Hacemos esto porque en lugar de entrenar nuestro propio modelo desde cero (podría llevar mucho tiempo y ser costoso), aprovechamos los patrones de otro modelo que ha sido entrenado para clasificar imágenes.\n",
        "\n"
      ],
      "metadata": {
        "id": "VmZTORdTZLD9"
      }
    },
    {
      "cell_type": "markdown",
      "source": [
        "## Preparando nuestro espacio de trabajo\n",
        "\n",
        "Antes de comenzar, dado que usaremos TensorFlow 2.x y TensorFlow Hub (TensorFlow Hub), importémoslos.\n",
        "\n",
        "**NOTA:** No ejecute la siguiente celda si ya está usando TF 2.x."
      ],
      "metadata": {
        "id": "ElEgazimZTlr"
      }
    },
    {
      "cell_type": "code",
      "source": [],
      "metadata": {
        "id": "o4FFpoK8ZCV0"
      },
      "execution_count": null,
      "outputs": []
    }
  ]
}